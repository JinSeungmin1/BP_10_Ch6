{
  "nbformat": 4,
  "nbformat_minor": 0,
  "metadata": {
    "colab": {
      "provenance": [],
      "authorship_tag": "ABX9TyOkiBOV5x7NAOAgCnKrBBSX",
      "include_colab_link": true
    },
    "kernelspec": {
      "name": "python3",
      "display_name": "Python 3"
    },
    "language_info": {
      "name": "python"
    }
  },
  "cells": [
    {
      "cell_type": "markdown",
      "metadata": {
        "id": "view-in-github",
        "colab_type": "text"
      },
      "source": [
        "<a href=\"https://colab.research.google.com/github/JinSeungmin1/BP_10_Ch6/blob/main/Untitled2.ipynb\" target=\"_parent\"><img src=\"https://colab.research.google.com/assets/colab-badge.svg\" alt=\"Open In Colab\"/></a>"
      ]
    },
    {
      "cell_type": "code",
      "execution_count": 2,
      "metadata": {
        "colab": {
          "base_uri": "https://localhost:8080/"
        },
        "id": "mWMxlRJnf7tq",
        "outputId": "5b0070e0-674b-4011-b96e-893155356bb0"
      },
      "outputs": [
        {
          "output_type": "stream",
          "name": "stdout",
          "text": [
            "2 4 6 8 10 12 14 16 18 20 22 24 26 28 30 32 34 36 38 40 42 44 46 48 50 52 54 56 58 60 62 64 66 68 70 72 74 76 78 80 82 84 86 88 90 92 94 96 98 100 "
          ]
        }
      ],
      "source": [
        "for i in range(2, 101):     # range를 이용해 반복 루프를 지정\n",
        "  if i%2==0 :\n",
        "    print(i,end = \" \")"
      ]
    },
    {
      "cell_type": "code",
      "source": [
        "year = 0\n",
        "balance = 1000\n",
        "while balance <= 2000 :        \n",
        "  year = year + 1\n",
        "  interest = balance * 0.07\n",
        "  balance = balance + interest\n",
        "print(year, \"년이 걸립니다.\")"
      ],
      "metadata": {
        "colab": {
          "base_uri": "https://localhost:8080/"
        },
        "id": "T1aJQ4GQgWev",
        "outputId": "280e3a0b-fdca-4856-d43d-e9170f7c1b33"
      },
      "execution_count": 3,
      "outputs": [
        {
          "output_type": "stream",
          "name": "stdout",
          "text": [
            "11 년이 걸립니다.\n"
          ]
        }
      ]
    },
    {
      "cell_type": "code",
      "source": [
        "n = 1234\n",
        "sum = 0\n",
        "while n > 0 :  # 0을 초과하는 경우가 while의 조건\n",
        "  digit = n % 10 # x는 남은수를 연산하는 값\n",
        "  sum = sum + digit\n",
        "  n = n // 10\n",
        "print(sum)"
      ],
      "metadata": {
        "colab": {
          "base_uri": "https://localhost:8080/"
        },
        "id": "-LlDVlwOgdEv",
        "outputId": "f6bc9d21-c323-4c99-b075-148777d46da7"
      },
      "execution_count": 4,
      "outputs": [
        {
          "output_type": "stream",
          "name": "stdout",
          "text": [
            "10\n"
          ]
        }
      ]
    },
    {
      "cell_type": "code",
      "source": [
        "ans = 0\n",
        "while ans != 3*9:\n",
        " ans = int(input(\"3*9는\"))    # 3*9의 값이 while의 조건\n",
        "print(\"맞았습니다.\")\n"
      ],
      "metadata": {
        "colab": {
          "base_uri": "https://localhost:8080/"
        },
        "id": "VrcDuUmOg0uE",
        "outputId": "e7312e14-0fa9-4741-cd54-4f1492ab4114"
      },
      "execution_count": 5,
      "outputs": [
        {
          "output_type": "stream",
          "name": "stdout",
          "text": [
            "3*9는27\n",
            "맞았습니다.\n"
          ]
        }
      ]
    },
    {
      "cell_type": "code",
      "source": [
        "sum = 0\n",
        "while True:           # 무한 반복을 위해 while문의 조건을 true로 지정\n",
        "  x = int(input(\"정수를 입력하시오: \"))\n",
        "  if x == 0:\n",
        "    break;            # 값이 0이면 break 아니라면 변수 sum에 x값을 더한다.\n",
        "    sum = sum + x\n",
        "print(\"합은 \", sum, \"입니다.\")   # 0이 나올경우 print로 값을 출력한다."
      ],
      "metadata": {
        "colab": {
          "base_uri": "https://localhost:8080/"
        },
        "id": "OkaEOxvJg_0H",
        "outputId": "1c1b5629-7d4b-48af-de67-31a44beffbb4"
      },
      "execution_count": 15,
      "outputs": [
        {
          "output_type": "stream",
          "name": "stdout",
          "text": [
            "정수를 입력하시오: 1\n",
            "정수를 입력하시오: 2\n",
            "정수를 입력하시오: 3\n",
            "정수를 입력하시오: 0\n",
            "합은  0 입니다.\n"
          ]
        }
      ]
    },
    {
      "cell_type": "code",
      "source": [
        "from random import randint # 2개의 랜덤한수를 랜덤 함수를 통해 출력\n",
        "for i in range(3) :\n",
        " d1 = randint(1, 6)\n",
        " d2 = randint(1, 6)\n",
        " print(\"첫번째 주사위=\", d1, \"두번째 주사위=\", d2)"
      ],
      "metadata": {
        "colab": {
          "base_uri": "https://localhost:8080/"
        },
        "id": "IrqCNg40hOLv",
        "outputId": "cf3bbfc9-2f81-43e5-b89b-6b8fd883e2be"
      },
      "execution_count": 16,
      "outputs": [
        {
          "output_type": "stream",
          "name": "stdout",
          "text": [
            "첫번째 주사위= 2 두번째 주사위= 4\n",
            "첫번째 주사위= 2 두번째 주사위= 1\n",
            "첫번째 주사위= 5 두번째 주사위= 2\n"
          ]
        }
      ]
    }
  ]
}